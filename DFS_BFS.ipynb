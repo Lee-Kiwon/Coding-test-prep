{
 "cells": [
  {
   "cell_type": "markdown",
   "id": "ba15ab9b",
   "metadata": {},
   "source": [
    "DFS/BFS"
   ]
  },
  {
   "cell_type": "markdown",
   "id": "9bee8293",
   "metadata": {},
   "source": [
    "자료구조 : 데이터 표현, 관리, 처리위한 구조\n",
    "\n",
    "스택 & 큐 : 삽입과 삭제로 이뤄짐\n",
    "\n",
    "오버플로, 언더플로도 고민해야함"
   ]
  },
  {
   "cell_type": "markdown",
   "id": "b087809a",
   "metadata": {},
   "source": [
    "스택 : 박스 쌓기에 비유(선입후출)\n",
    "append, pop 사용하면 스택구조와 동일하게 작동\n",
    "\n",
    "큐 : 대기줄(선입 선출)\n",
    "\n",
    "재귀함수 : 자기 자신을 호출하는 함수(종료 조건 반드시 명시)"
   ]
  },
  {
   "cell_type": "markdown",
   "id": "e587a94a",
   "metadata": {},
   "source": [
    "DFS : 깊이 우선 탐색, 그래프에서 깊은 부분을 우선적으로 탐색하는 알고리즘\n",
    "\n",
    "ㅁ 그래프 : 노드(정점), 간선으로 표현됨\n",
    "(노드는 도시, 간선은 도로)\n",
    "\n",
    "ㅁ 표시 방법에는 인접행렬, 인접 리스트 크게 두개가 있음"
   ]
  },
  {
   "cell_type": "code",
   "execution_count": 1,
   "id": "06f1fea0",
   "metadata": {},
   "outputs": [
    {
     "name": "stdout",
     "output_type": "stream",
     "text": [
      "[[0, 7, 5], [7, 0, 999999999], [5, 999999999, 0]]\n"
     ]
    }
   ],
   "source": [
    "# 인접행렬 방식 그래프\n",
    "\n",
    "INF = 999999999\n",
    "\n",
    "#2차원 리스트를 이용해 인접행렬 표현\n",
    "graph = [\n",
    "    [0,7,5],\n",
    "    [7,0,INF],\n",
    "    [5,INF,0]\n",
    "]\n",
    "\n",
    "print(graph)"
   ]
  },
  {
   "cell_type": "code",
   "execution_count": 2,
   "id": "b3faa2dd",
   "metadata": {},
   "outputs": [
    {
     "name": "stdout",
     "output_type": "stream",
     "text": [
      "[[(1, 7), (2, 5)], [(0, 7)], [(0, 5)]]\n"
     ]
    }
   ],
   "source": [
    "#인접 리스트 방식 \n",
    "\n",
    "#모든 노드에 연결된 노드에 대한 정보를 차례로 연결하여 저장함\n",
    "\n",
    "#행이 3개인 2차원 리스트로 인접 리스트 표현\n",
    "\n",
    "graph = [[] for _ in range(3)]\n",
    "\n",
    "#노드 0에 연결된 노드 정보 저장(노드, 거리)\n",
    "graph[0].append((1,7))\n",
    "graph[0].append((2,5))\n",
    "\n",
    "#노드 1에 연결된 노드 정보 저장(노드, 거리)\n",
    "graph[1].append((0,7))\n",
    "\n",
    "#노드 2에 연결된 노드 정보 저장(노드, 거리)\n",
    "graph[2].append((0,5))\n",
    "\n",
    "print(graph)"
   ]
  },
  {
   "cell_type": "markdown",
   "id": "777fe07e",
   "metadata": {},
   "source": [
    "그래서 DFS란? 특정 경로로 탐색하다가 특정 상황에서 최대한 깊숙이 들어가서 노드를 방문한 후, 다시 돌아가 다른 경로로 탐색하는 알고리즘"
   ]
  },
  {
   "cell_type": "markdown",
   "id": "e0e66a4b",
   "metadata": {},
   "source": [
    "#DFS 동작 과정\n",
    "#1. 탐색 시작 노드를 스택에 삽입하고 방문 처리를 한다\n",
    "#2. 스택의 최상단 노드에 방문하지 않은 인접 노드가 있으면 그 인접 노드를 스택에 넣고 방문 처리를 함. 방문하지 않은 인접 노드가 없으면 스택에서 최상단 노드를 꺼낸다.\n",
    "#3. 2번의 과정을 더 이상 수행할 수 없을 때까지 반복한다.\n",
    "\n",
    "#인접한 노드 중에서 방문하지 않은 노드가 여러개 있으면 번호가 낮은 수부터 처리함"
   ]
  },
  {
   "cell_type": "code",
   "execution_count": 5,
   "id": "9e493d33",
   "metadata": {},
   "outputs": [
    {
     "name": "stdout",
     "output_type": "stream",
     "text": [
      "1 2 7 6 8 3 4 5 "
     ]
    }
   ],
   "source": [
    "#DFS 알고리즘 구현\n",
    "\n",
    "#DFS 메서드 정의\n",
    "def dfs(graph, v, visited):\n",
    "    #현재 노드를 방문 처리\n",
    "    visited[v] = True\n",
    "    print(v, end=' ')\n",
    "    # 현재 노드와 연결된 다른 노드를 재귀적으로 방문\n",
    "    for i in graph[v]:\n",
    "        if not visited[i]:\n",
    "            dfs(graph, i, visited)\n",
    "            \n",
    "#각 노드가 연결된 정보를 리스트 자료형으로 표현\n",
    "graph = [\n",
    "    [],\n",
    "    [2,3,8],\n",
    "    [1,7],\n",
    "    [1,4,5],\n",
    "    [3,5],\n",
    "    [3,4],\n",
    "    [7],\n",
    "    [2,6,8],\n",
    "    [1,7]\n",
    "]\n",
    "\n",
    "#각 노드가 방문된 정보를 리스트 자료형으로 표현\n",
    "visited = [False]*9\n",
    "\n",
    "#정의된 DFS 함수 호출\n",
    "dfs(graph,1,visited)\n",
    "\n"
   ]
  },
  {
   "cell_type": "markdown",
   "id": "576ed61a",
   "metadata": {},
   "source": [
    "BFS : 너비 우선 탐색(가까운 노드부터 탐색하는 알고리즘)\n",
    "DFS가 최대한 멀리 있는 노드를 우선으로 탐색하는 방식\n",
    "\n",
    "BFS에서는 선입선출인 큐 자료를 이용함\n",
    "\n",
    "동작방식\n",
    "1. 탐색 시작 노드를 큐에 넣고 방문 처리\n",
    "2. 큐에서 노드를 꺼내 해당 노드의 인접 노드 중에서 방문하지 않은 노드를 모두 큐에 삽입 후 방문처리\n",
    "3. 2번을 더 이상 수행할 수 없을 때까지 반복"
   ]
  },
  {
   "cell_type": "code",
   "execution_count": 6,
   "id": "70b54904",
   "metadata": {},
   "outputs": [
    {
     "name": "stdout",
     "output_type": "stream",
     "text": [
      "1 2 3 8 7 4 5 6 "
     ]
    }
   ],
   "source": [
    "#구현 코드\n",
    "\n",
    "from collections import deque\n",
    "\n",
    "#BFS 정의\n",
    "\n",
    "def bfs(graph, start, visited):\n",
    "    #큐(Queue) 구현을 위해 deque 라이브러리 사용\n",
    "    queue = deque([start])\n",
    "    #현재 노드를 방문 처리\n",
    "    visited[start] = True\n",
    "    #큐가 빌 때까지 반복\n",
    "    while queue:\n",
    "        #큐에서 원소 하나 뽑아서 출력\n",
    "        v = queue.popleft()\n",
    "        print(v, end = ' ')\n",
    "        #해당 원소와 연결된, 아직 방문하지 않은 원소들을 큐에 삽입\n",
    "        for i in graph[v]:\n",
    "            if not visited[i]:\n",
    "                queue.append(i)\n",
    "                visited[i] = True\n",
    "                \n",
    "                \n",
    "                \n",
    "#각 노드가 연결된 정보를 리스트 자료형으로 표현\n",
    "graph = [\n",
    "    [],\n",
    "    [2,3,8],\n",
    "    [1,7],\n",
    "    [1,4,5],\n",
    "    [3,5],\n",
    "    [3,4],\n",
    "    [7],\n",
    "    [2,6,8],\n",
    "    [1,7]\n",
    "]\n",
    "\n",
    "#각 노드가 방문된 정보를 리스트 자료형으로 표현\n",
    "visited = [False]*9\n",
    "\n",
    "bfs(graph,1,visited)"
   ]
  },
  {
   "cell_type": "code",
   "execution_count": null,
   "id": "65f628b8",
   "metadata": {},
   "outputs": [],
   "source": [
    "#DFS 예제\n",
    "\n",
    "# NXM 얼음틀이 있는데, 구멍이 뚫린 부분은 0, 칸막이가 존재하는 부분은 1, 구멍이 뚫린 것 끼리 연결되어 있음 이 때 연결된 군집의 개수는?\n",
    "\n",
    "n,m = map(int, input().split)\n",
    "\n",
    "#2차원 맵 정보 입력받기\n",
    "graph = []\n",
    "for i in range(n):\n",
    "    graph.append(list(map(int, input())))\n",
    "\n",
    "#DFS로 특정한 노드를 방문한 뒤에 연결된 모든 노드드ㅡㄹ도 방문\n",
    "def dfs(x,y):\n",
    "    #주어진 범위 벗어나는 경우에는 즉시 종료\n",
    "    if x<=-1 or x>=n or y<=-1 or y>=m:\n",
    "        return False\n",
    "    #현재 노드를 아직 방문하지 않았다면\n",
    "    if graph[x][y] ==0:\n",
    "        #해당 노드 방문 처리\n",
    "        graph[x][y] = 1\n",
    "        #상하좌우위치도 호출\n",
    "        dfs(x-1, y)\n",
    "        dfs(x, y-1)\n",
    "        dfs(x+1, y)\n",
    "        dfs(x, y+1)\n",
    "        return True\n",
    "    return False\n",
    "\n",
    "#모든 노드에 대해 음료수 채우기\n",
    "result = 0\n",
    "for i in range(n):\n",
    "    for j in range(m):\n",
    "        #현재 위치에서 DFS 수행\n",
    "        if dfs(i, j) ==True:\n",
    "            result +=1"
   ]
  },
  {
   "cell_type": "code",
   "execution_count": null,
   "id": "94d410c9",
   "metadata": {},
   "outputs": [],
   "source": [
    "#BFS 예제\n",
    "\n",
    "#N X M 크기의 미로에 갇혀있을 때, 현재 위치 (1,1)에서 (N,M)에 있는 미로를 탈출하는 최소 칸의 개수(괴물 0 없는 곳 1)\n",
    "\n",
    "from collections import deque\n",
    "\n",
    "#N,M 공백으로 입력\n",
    "n,m = mpa(int, input().split())\n",
    "\n",
    "#2차원 리스트의 맵 정보 입력받기\n",
    "graph=[]\n",
    "for i in range(n):\n",
    "    graph.append(list(map(int,input())))\n",
    "    \n",
    "#방향정의(상하좌우)\n",
    "dx = [-1, 1, 0, 0]\n",
    "dy = [0,0,-1,1]\n",
    "\n",
    "#소스코드\n",
    "\n",
    "def bfs(x,y):\n",
    "    #큐 규현ㄴ을 위해 라이브러리 사용\n",
    "    queue = deque()\n",
    "    queue.append((x,y))\n",
    "    #큐가 빌 때까지 반복\n",
    "    while queue:\n",
    "        x,y = queue.popleft()\n",
    "        #현재 위치에서 네 방향으로의 위치 확인\n",
    "        for i in range(4):\n",
    "            nx = x+dx[i]\n",
    "            ny = y+dy[i]\n",
    "            #미로찾기 공간을 벗어난 경우 무시\n",
    "            if nx<0 or ny<0 or nx >=n or ny>=m:\n",
    "                continue\n",
    "            #벽 무시\n",
    "            if graph[nx][ny]==0:\n",
    "                continue\n",
    "            # 해당 노드를 처음 방문하는 경우에만 최단 거리 기록\n",
    "            if graph[nx][ny] ==1:\n",
    "                graph[nx][ny] = graph[x][y] + 1\n",
    "                queue.append((nx, ny))\n",
    "\n",
    "                \n",
    "#가장 오른쪽 아래까지 최단거리 반환\n",
    "\n",
    "return graph[n-1][m-1]\n",
    "\n",
    "print(bgs(0,0))"
   ]
  }
 ],
 "metadata": {
  "kernelspec": {
   "display_name": "Python 3 (ipykernel)",
   "language": "python",
   "name": "python3"
  },
  "language_info": {
   "codemirror_mode": {
    "name": "ipython",
    "version": 3
   },
   "file_extension": ".py",
   "mimetype": "text/x-python",
   "name": "python",
   "nbconvert_exporter": "python",
   "pygments_lexer": "ipython3",
   "version": "3.9.12"
  }
 },
 "nbformat": 4,
 "nbformat_minor": 5
}
