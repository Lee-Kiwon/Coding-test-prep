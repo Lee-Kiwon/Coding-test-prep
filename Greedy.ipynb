{
 "cells": [
  {
   "cell_type": "code",
   "execution_count": 1,
   "id": "78c869f8",
   "metadata": {},
   "outputs": [
    {
     "name": "stdout",
     "output_type": "stream",
     "text": [
      "6\n"
     ]
    }
   ],
   "source": [
    "# 500원, 100원, 50원, 10원 동전이 무한히 있음. 1260원을 거슬러 줘야할 때, 최소 동전의 개수\n",
    "\n",
    "n = 1260\n",
    "count = 0\n",
    "\n",
    "coin_types = [500, 100, 50, 10]\n",
    "\n",
    "for coin in coin_types: \n",
    "    count+=n // coin #/ / 몫\n",
    "    n %=coin # % 나머지\n",
    "    \n",
    "print(count)"
   ]
  },
  {
   "cell_type": "code",
   "execution_count": null,
   "id": "9019950d",
   "metadata": {},
   "outputs": [],
   "source": [
    "#그리디 알고리즘을 이용할 때에는 해법이 정당한지 알아봐야함"
   ]
  },
  {
   "cell_type": "code",
   "execution_count": null,
   "id": "aed10fa0",
   "metadata": {},
   "outputs": [],
   "source": []
  },
  {
   "cell_type": "code",
   "execution_count": null,
   "id": "379efbaf",
   "metadata": {},
   "outputs": [],
   "source": [
    "#다양한 수로 이루어진 배열이 있을 때, 주어진 수들을 M번 더하여 가장 큰 수를 만들어라. 단, 특정한 수가 연속하여 K번을 초과하여 더해질 수 없다.\n",
    "\n",
    "#ex. 2,4,5,4,6 배열이 있을 때, M이 8이고, K가 3이라 가정, 6 + 6 + 6 + 5 + 6 + 6 + 6 + 5 = 46이 해답\n",
    "\n",
    "#ex2. 3,4,3,4,3 M이 7이고, K가 2라고 가정, 4 + 4 + 4 + 4 + 4 + 4 + 4= 28, 왜냐면, 2번째와 4번째의 4를 서로 다른 4로 치기 떄문\n",
    "\n"
   ]
  },
  {
   "cell_type": "code",
   "execution_count": 5,
   "id": "7b957e83",
   "metadata": {
    "scrolled": true
   },
   "outputs": [
    {
     "name": "stdout",
     "output_type": "stream",
     "text": [
      "5 8 3\n"
     ]
    }
   ],
   "source": [
    "n,m,k = map(int, input().split())"
   ]
  },
  {
   "cell_type": "code",
   "execution_count": 8,
   "id": "2672024d",
   "metadata": {},
   "outputs": [
    {
     "name": "stdout",
     "output_type": "stream",
     "text": [
      "2 4 5 4 6\n"
     ]
    }
   ],
   "source": [
    "data = list(map(int,input().split()))"
   ]
  },
  {
   "cell_type": "code",
   "execution_count": 11,
   "id": "e3163ee5",
   "metadata": {},
   "outputs": [
    {
     "name": "stdout",
     "output_type": "stream",
     "text": [
      "46\n"
     ]
    }
   ],
   "source": [
    "N = 5\n",
    "M = 8\n",
    "K = 3\n",
    "\n",
    "num = [2, 4, 5, 4, 6]\n",
    "num.sort() # 데이터 정렬(오름차순)\n",
    "\n",
    "first = num[N-1] # 가장 큰수\n",
    "second = num[N-2] # 두번째로 큰 수\n",
    "\n",
    "result = 0\n",
    "\n",
    "while True: #while true를 쓴 경우 무한루프\n",
    "    for i in range(K): # 가장 큰 수를 K번 더하고 1번\n",
    "        if m==0:\n",
    "            break\n",
    "        result += first\n",
    "        m -=1\n",
    "    if m==0: #K번 더한 뒤, m=0이면 탈출, 아니면 result 한번 더하고 다시 1번\n",
    "        break\n",
    "    result += second\n",
    "    m -=1\n",
    "    \n",
    "print(result)"
   ]
  },
  {
   "cell_type": "code",
   "execution_count": 13,
   "id": "9881aa66",
   "metadata": {},
   "outputs": [
    {
     "name": "stdout",
     "output_type": "stream",
     "text": [
      "46\n"
     ]
    }
   ],
   "source": [
    "N = 5\n",
    "M = 8\n",
    "K = 3\n",
    "\n",
    "num = [2, 4, 5, 4, 6]\n",
    "num.sort() # 데이터 정렬(오름차순)\n",
    "pe\n",
    "first = num[N-1] # 가장 큰수\n",
    "second = num[N-2] # 두번째로 큰 수\n",
    "\n",
    "count = int(M/(K+1))*K\n",
    "count += M%(K+1)\n",
    "\n",
    "result = 0\n",
    "result += (count) * first\n",
    "result += (M-count)*second\n",
    "\n",
    "print(result)"
   ]
  },
  {
   "cell_type": "code",
   "execution_count": null,
   "id": "bfb8664a",
   "metadata": {},
   "outputs": [],
   "source": []
  },
  {
   "cell_type": "code",
   "execution_count": 2,
   "id": "6021914c",
   "metadata": {},
   "outputs": [
    {
     "name": "stdout",
     "output_type": "stream",
     "text": [
      "3 3\n",
      "3 1 2\n",
      "4 1 4\n",
      "2\n",
      "2\n"
     ]
    }
   ],
   "source": [
    "#카드들이 N X M의 형태로 놓여져 있을 때, 행을 선택하고 행에서 가장 작은 카드를 뽑는 프로그램을 만들어라\n",
    "\n",
    "n,m = map(int, input().split())\n",
    "\n",
    "result = 0\n",
    "\n",
    "for i in range(n):\n",
    "    data = list(map(int,input().split()))\n",
    "    min_value = min(data)\n",
    "    result = max(result, min_value)\n",
    "    \n",
    "print(result)"
   ]
  },
  {
   "cell_type": "code",
   "execution_count": 3,
   "id": "a87e1357",
   "metadata": {},
   "outputs": [
    {
     "name": "stdout",
     "output_type": "stream",
     "text": [
      "2 4\n",
      "7 3 1 8\n",
      "3 3 3 4\n",
      "3\n"
     ]
    }
   ],
   "source": [
    "n,m = map(int, input().split())\n",
    "\n",
    "result = 0\n",
    "\n",
    "for i in range(n):\n",
    "    data = list(map(int, input().split()))\n",
    "    min_value = 10001\n",
    "    for a in data:\n",
    "        min_value=min(min_value, a)\n",
    "    result = max(result, min_value)\n",
    "    \n",
    "print(result)"
   ]
  },
  {
   "cell_type": "code",
   "execution_count": null,
   "id": "10303e0a",
   "metadata": {},
   "outputs": [],
   "source": []
  },
  {
   "cell_type": "code",
   "execution_count": 7,
   "id": "c3ae8952",
   "metadata": {},
   "outputs": [
    {
     "name": "stdout",
     "output_type": "stream",
     "text": [
      "2\n"
     ]
    }
   ],
   "source": [
    "#### n, k = map(int, input().split())\n",
    "result = 0\n",
    "\n",
    "#N이 K 이상이라면 K로 계속 나누기\n",
    "while n >= k:\n",
    "    #N이 K로 나누어 떨어지지 않는다면 N에서 1씩 빼기\n",
    "    while n%k !=0:\n",
    "        n-=1\n",
    "        result +=1\n",
    "    n //=k\n",
    "    result +=1\n",
    "\n",
    "#마지막으로 남은 수에 대하여 1씩 빼기\n",
    "\n",
    "while n>1:\n",
    "    n-=1\n",
    "    result +=1\n",
    "    \n",
    "print(result)"
   ]
  }
 ],
 "metadata": {
  "kernelspec": {
   "display_name": "Python 3 (ipykernel)",
   "language": "python",
   "name": "python3"
  },
  "language_info": {
   "codemirror_mode": {
    "name": "ipython",
    "version": 3
   },
   "file_extension": ".py",
   "mimetype": "text/x-python",
   "name": "python",
   "nbconvert_exporter": "python",
   "pygments_lexer": "ipython3",
   "version": "3.9.12"
  }
 },
 "nbformat": 4,
 "nbformat_minor": 5
}
