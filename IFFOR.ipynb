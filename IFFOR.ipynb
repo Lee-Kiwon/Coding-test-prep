{
 "cells": [
  {
   "cell_type": "markdown",
   "id": "c87cda13",
   "metadata": {},
   "source": [
    "조건문"
   ]
  },
  {
   "cell_type": "code",
   "execution_count": null,
   "id": "859aa703",
   "metadata": {},
   "outputs": [],
   "source": [
    "# 기본형\n",
    "\n",
    "if 조건문 1:\n",
    "    조건문1이 True일 때 실행\n",
    "elif 조건문 2:\n",
    "    조건문1이 FALSE이고, 조건문2가 TRUE 일때 시행\n",
    "else:\n",
    "    위의 모든 조건문이 TRUE가 아닐 때"
   ]
  },
  {
   "cell_type": "code",
   "execution_count": 47,
   "id": "025c7105",
   "metadata": {},
   "outputs": [
    {
     "name": "stdout",
     "output_type": "stream",
     "text": [
      "C\n"
     ]
    }
   ],
   "source": [
    "score = 75\n",
    "\n",
    "if score >=90:\n",
    "    print(\"A\")\n",
    "elif score >=80:\n",
    "    print(\"B\")\n",
    "elif score >=70:\n",
    "    print(\"C\")\n",
    "else:\n",
    "    print(\"F\")\n",
    "    \n",
    "#조건문의 들여쓰기가 같은 부분은 같이 실행됨\n",
    "#들여쓰기는 space4개 입력해 작성(4개가 표준)"
   ]
  },
  {
   "cell_type": "code",
   "execution_count": null,
   "id": "adbeaee1",
   "metadata": {},
   "outputs": [],
   "source": [
    "#비교 연산자\n",
    "== # 같을 때 참\n",
    "!= # 다를 때 참\n",
    "> #왼쪽이 더 클때 참\n",
    ">= #왼쪽이 더 크거나 같을 때 참\n",
    "\n",
    "in\n",
    "not in"
   ]
  },
  {
   "cell_type": "code",
   "execution_count": 48,
   "id": "a1e87f75",
   "metadata": {},
   "outputs": [
    {
     "name": "stdout",
     "output_type": "stream",
     "text": [
      "프로그램을 종료합니다.\n"
     ]
    }
   ],
   "source": [
    "#조건문 형태만 만들어 놓고 pass 가능\n",
    "\n",
    "score = 85\n",
    "\n",
    "if score >=80:\n",
    "    pass #나중에 작성할 소스코드\n",
    "else:\n",
    "    print('성적이 80점 미만입니다.')\n",
    "    \n",
    "print('프로그램을 종료합니다.')"
   ]
  },
  {
   "cell_type": "code",
   "execution_count": 51,
   "id": "8033905a",
   "metadata": {},
   "outputs": [
    {
     "name": "stdout",
     "output_type": "stream",
     "text": [
      "Success\n"
     ]
    }
   ],
   "source": [
    "#실행할 코드가 한줄일 경우 간략하게 표현 가능\n",
    "\n",
    "score = 85\n",
    "\n",
    "if score>=80: result = \"Success\"\n",
    "else: result = \"Fail\"\n",
    "\n",
    "print(result)"
   ]
  },
  {
   "cell_type": "code",
   "execution_count": 52,
   "id": "1dc0bbf7",
   "metadata": {},
   "outputs": [
    {
     "name": "stdout",
     "output_type": "stream",
     "text": [
      "Success\n"
     ]
    }
   ],
   "source": [
    "# 더 간략\n",
    "\n",
    "score = 85\n",
    "result = \"Success\" if score >=80 else \"Fail\"\n",
    "\n",
    "print(result)"
   ]
  },
  {
   "cell_type": "code",
   "execution_count": 55,
   "id": "5c64b2c3",
   "metadata": {},
   "outputs": [
    {
     "name": "stdout",
     "output_type": "stream",
     "text": [
      "[1, 2, 4]\n",
      "[1, 2, 4]\n"
     ]
    }
   ],
   "source": [
    "# 조건문 비교 2\n",
    "\n",
    "#일반\n",
    "\n",
    "a = [1, 2, 3, 4, 5, 5, 5]\n",
    "remove_set = {3, 5}\n",
    "\n",
    "result = []\n",
    "for i in a:\n",
    "    if i  not in remove_set:\n",
    "        result.append(i)\n",
    "        \n",
    "print(result)\n",
    "\n",
    "\n",
    "#줄인거\n",
    "\n",
    "a = [1, 2, 3, 4, 5, 5, 5]\n",
    "remove_set = {3, 5}\n",
    "\n",
    "result =  [i for i in a if i not in remove_set]\n",
    "print(result)"
   ]
  },
  {
   "cell_type": "markdown",
   "id": "6881cf30",
   "metadata": {},
   "source": [
    "반복문"
   ]
  },
  {
   "cell_type": "markdown",
   "id": "878411eb",
   "metadata": {},
   "source": [
    "While\n",
    "\n",
    "조건문이 참일 때 한해, 반복적으로 코드가 수행됨"
   ]
  },
  {
   "cell_type": "code",
   "execution_count": 56,
   "id": "39b18ca2",
   "metadata": {
    "scrolled": true
   },
   "outputs": [
    {
     "name": "stdout",
     "output_type": "stream",
     "text": [
      "45\n"
     ]
    }
   ],
   "source": [
    "i = 1\n",
    "result = 0\n",
    "\n",
    "while i<=9:\n",
    "    result +=i\n",
    "    i+=1\n",
    "\n",
    "\n",
    "print(result)"
   ]
  },
  {
   "cell_type": "code",
   "execution_count": 57,
   "id": "df2ec145",
   "metadata": {},
   "outputs": [
    {
     "name": "stdout",
     "output_type": "stream",
     "text": [
      "25\n"
     ]
    }
   ],
   "source": [
    "i = 1\n",
    "result = 0\n",
    "\n",
    "while i<=9:\n",
    "    if i % 2 ==1:\n",
    "        result +=i\n",
    "    i+=1\n",
    "\n",
    "\n",
    "print(result)"
   ]
  },
  {
   "cell_type": "markdown",
   "id": "c01fbe8b",
   "metadata": {},
   "source": [
    "for\n",
    "\n",
    "반복문"
   ]
  },
  {
   "cell_type": "code",
   "execution_count": 58,
   "id": "2445de19",
   "metadata": {},
   "outputs": [
    {
     "name": "stdout",
     "output_type": "stream",
     "text": [
      "45\n"
     ]
    }
   ],
   "source": [
    "result = 0\n",
    "\n",
    "for i in range(1,10):\n",
    "    result += i\n",
    "    \n",
    "print(result)"
   ]
  },
  {
   "cell_type": "code",
   "execution_count": 59,
   "id": "cd94753d",
   "metadata": {},
   "outputs": [
    {
     "name": "stdout",
     "output_type": "stream",
     "text": [
      "1 번 학생은 합격입니다.\n",
      "2 번 학생은 합격입니다.\n",
      "5 번 학생은 합격입니다.\n"
     ]
    }
   ],
   "source": [
    "scores = [90, 85, 77, 65, 97]\n",
    "\n",
    "for i in range(5):\n",
    "    if scores[i] >=80:\n",
    "        print(i+1, \"번 학생은 합격입니다.\")"
   ]
  },
  {
   "cell_type": "code",
   "execution_count": 63,
   "id": "a717ed5b",
   "metadata": {},
   "outputs": [
    {
     "name": "stdout",
     "output_type": "stream",
     "text": [
      "1 번 학생은 합격입니다.\n",
      "5 번 학생은 합격입니다.\n"
     ]
    }
   ],
   "source": [
    "scores = [90, 85, 77, 65, 97]\n",
    "cheating_list = {2,4}\n",
    "\n",
    "for i in range(5):\n",
    "    if i+1 in cheating_list:\n",
    "        continue #나는 pass를 씀\n",
    "    elif scores[i] >= 80:\n",
    "        print(i+1, \"번 학생은 합격입니다.\")"
   ]
  },
  {
   "cell_type": "code",
   "execution_count": null,
   "id": "d3ba8660",
   "metadata": {},
   "outputs": [],
   "source": []
  },
  {
   "cell_type": "code",
   "execution_count": null,
   "id": "6fd05bd6",
   "metadata": {},
   "outputs": [],
   "source": []
  },
  {
   "cell_type": "code",
   "execution_count": null,
   "id": "87039867",
   "metadata": {},
   "outputs": [],
   "source": []
  },
  {
   "cell_type": "code",
   "execution_count": null,
   "id": "95fb499e",
   "metadata": {},
   "outputs": [],
   "source": []
  },
  {
   "cell_type": "code",
   "execution_count": null,
   "id": "53e35fe6",
   "metadata": {},
   "outputs": [],
   "source": []
  }
 ],
 "metadata": {
  "kernelspec": {
   "display_name": "Python 3 (ipykernel)",
   "language": "python",
   "name": "python3"
  },
  "language_info": {
   "codemirror_mode": {
    "name": "ipython",
    "version": 3
   },
   "file_extension": ".py",
   "mimetype": "text/x-python",
   "name": "python",
   "nbconvert_exporter": "python",
   "pygments_lexer": "ipython3",
   "version": "3.9.12"
  }
 },
 "nbformat": 4,
 "nbformat_minor": 5
}
