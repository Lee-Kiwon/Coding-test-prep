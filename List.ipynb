{
 "cells": [
  {
   "cell_type": "markdown",
   "id": "69994455",
   "metadata": {},
   "source": [
    "리스트 자료형\n",
    "\n",
    "- 연속적으로 데이터를 저장할 수 있는 자료형\n",
    "\n",
    "- 인덱스는 0부터 시작\n",
    "\n",
    "ㅁ 배열 : 메모리의 연속 공간에 값이 채워져 있음 (6까지 채운다면 6까지 채워짐)\n",
    "- 처음 선언할 때 지정하여 고정된 크기를 가짐\n",
    "- 고정된 크기여서, 원소가 삭제 되어도 빈자리 남음\n",
    "\n",
    "ㅁ 리스트이 크기는 정해져 있지 않음"
   ]
  },
  {
   "cell_type": "code",
   "execution_count": 4,
   "id": "6d1af49a",
   "metadata": {},
   "outputs": [
    {
     "name": "stdout",
     "output_type": "stream",
     "text": [
      "[1, 2, 3, 4, 5, 6, 7, 8, 9]\n",
      "5\n",
      "[1, 2, 3, 4, 5, 6, 7, 8, 9]\n",
      "[]\n"
     ]
    }
   ],
   "source": [
    "# 리스트 만들기\n",
    "# - 대괄호 안에 원소를 넣음\n",
    "\n",
    "a = [1,2,3,4,5,6,7,8,9]\n",
    "print(a)\n",
    "\n",
    "print(a[4]) #다섯번째 원소에 접근\n",
    "\n",
    "\n",
    "a = list(a) # 빈 리스트 선언\n",
    "print(a)\n",
    "\n",
    "\n",
    "a = [] # 선언 방법2\n",
    "print(a)"
   ]
  },
  {
   "cell_type": "code",
   "execution_count": 6,
   "id": "a5c6f3d0",
   "metadata": {},
   "outputs": [
    {
     "name": "stdout",
     "output_type": "stream",
     "text": [
      "[0, 0, 0, 0, 0, 0, 0, 0, 0, 0]\n"
     ]
    }
   ],
   "source": [
    "#크기가 N인 1차원 리스트 초기화 방법\n",
    "n=10\n",
    "a = [0]*n\n",
    "print(a)"
   ]
  },
  {
   "cell_type": "markdown",
   "id": "e06de39b",
   "metadata": {},
   "source": [
    "리스트 인덱싱, 슬라이싱\n",
    "\n",
    "인덱스 값을 입력해 리스트 특정한 원소에 접근하는 것을 인덱싱이라고 함\n",
    "- 음의 정수를 넣으면 원소를 거꾸로 탐색"
   ]
  },
  {
   "cell_type": "code",
   "execution_count": 7,
   "id": "a145cdc4",
   "metadata": {},
   "outputs": [
    {
     "name": "stdout",
     "output_type": "stream",
     "text": [
      "9\n",
      "7\n",
      "[1, 2, 3, 7, 5, 6, 7, 8, 9]\n"
     ]
    }
   ],
   "source": [
    "a=[1,2,3,4,5,6,7,8,9]\n",
    "print(a[-1]) #뒤에서 첫번째 원소 출력\n",
    "\n",
    "print(a[-3])\n",
    "\n",
    "a[3] = 7 #네번째 원소 값 변경\n",
    "print(a)"
   ]
  },
  {
   "cell_type": "code",
   "execution_count": 8,
   "id": "3d6ea231",
   "metadata": {},
   "outputs": [
    {
     "name": "stdout",
     "output_type": "stream",
     "text": [
      "[2, 3, 4]\n"
     ]
    }
   ],
   "source": [
    "# 슬라이싱\n",
    "a=[1,2,3,4,5,6,7,8,9]\n",
    "print(a[1:4]) #두번째 원소부터 네번째 원소까지"
   ]
  },
  {
   "cell_type": "code",
   "execution_count": 10,
   "id": "e642e9a3",
   "metadata": {},
   "outputs": [
    {
     "name": "stdout",
     "output_type": "stream",
     "text": [
      "[1, 3, 5, 7, 9, 11, 13, 15, 17, 19]\n"
     ]
    }
   ],
   "source": [
    "#리스트 컴프리헨션(리스트 초기화)\n",
    "\n",
    "#0부터 19까지의 수 중에서 홀수만 포함하는 리스트\n",
    "array = [i for i in range(20) if i % 2 ==1]\n",
    "\n",
    "print(array)"
   ]
  },
  {
   "cell_type": "code",
   "execution_count": 15,
   "id": "f29727ff",
   "metadata": {},
   "outputs": [
    {
     "name": "stdout",
     "output_type": "stream",
     "text": [
      "[1, 3, 5, 7, 9, 11, 13, 15, 17, 19]\n"
     ]
    }
   ],
   "source": [
    "#위와 같은 결과 값을 뽑는 코드이다.\n",
    "array = []\n",
    "for i in range(20):\n",
    "    if i % 2 == 1:\n",
    "        array.append(i)\n",
    "        \n",
    "print(array)"
   ]
  },
  {
   "cell_type": "code",
   "execution_count": 16,
   "id": "9e983631",
   "metadata": {},
   "outputs": [
    {
     "name": "stdout",
     "output_type": "stream",
     "text": [
      "[1, 4, 9, 16, 25, 36, 49, 64, 81]\n"
     ]
    }
   ],
   "source": [
    "array = [i*i for i in range(1,10)]\n",
    "\n",
    "print(array)"
   ]
  },
  {
   "cell_type": "code",
   "execution_count": 17,
   "id": "ae0cde80",
   "metadata": {},
   "outputs": [
    {
     "name": "stdout",
     "output_type": "stream",
     "text": [
      "[[0, 0, 0, 0], [0, 0, 0, 0], [0, 0, 0, 0]]\n"
     ]
    }
   ],
   "source": [
    "#2차원 리스트 초기화 N X M 크기의 2차원 리스트 초기화 예시\n",
    "\n",
    "n=3\n",
    "m=4\n",
    "array=[[0]*m for _ in range(n)]\n",
    "print(array)\n",
    "\n",
    "\n",
    "#상기 언버다는 다음과 같은 역할이다.\n",
    "#- 반복을 수행하되, 반복을 위한 변수의 값을 무시하고자 할 때"
   ]
  },
  {
   "cell_type": "code",
   "execution_count": 19,
   "id": "3eb16588",
   "metadata": {},
   "outputs": [
    {
     "name": "stdout",
     "output_type": "stream",
     "text": [
      "[[0, 0, 0, 0], [0, 0, 0, 0], [0, 0, 0, 0]]\n",
      "[[0, 5, 0, 0], [0, 5, 0, 0], [0, 5, 0, 0]]\n",
      "[[0, 0, 0, 0], [0, 0, 0, 0], [0, 0, 0, 0]]\n",
      "[[0, 0, 0, 0], [0, 5, 0, 0], [0, 0, 0, 0]]\n"
     ]
    }
   ],
   "source": [
    "#리스트 초기화를 리스트 컴프리헨션을 이용해야 하는 이유, 하기와 같이 작성하면,\n",
    "#3개의 리스트가 모두 동일한 객체에 대한 3개의 레퍼런스로 인식 됨\n",
    "\n",
    "n = 3\n",
    "m = 4\n",
    "array = [[0] * m] * n\n",
    "print(array)\n",
    "\n",
    "array[1][1] = 5\n",
    "print(array) # 1,1의 요소만 고쳤는데 이렇게 된다\n",
    "\n",
    "#비교\n",
    "n=3\n",
    "m=4\n",
    "array=[[0]*m for _ in range(n)]\n",
    "print(array)\n",
    "\n",
    "array[1][1]=5\n",
    "print(array)"
   ]
  },
  {
   "cell_type": "code",
   "execution_count": null,
   "id": "52805760",
   "metadata": {},
   "outputs": [],
   "source": [
    "#리스트 관련 기타 명령어\n",
    "\n",
    "변수명.append() #리스트에 원소 하나 삽입 시 사용\n",
    "변수명.sort() #오름차순으로 정렬, 변수명.sort(reverse=TRue) : 내림차순\n",
    "변수명.reverse() #리스트 순서 뒤집기\n",
    "변수명.insert() #특정 인덱스 위치에 원소 삽입시 사용\n",
    "변수명.count(특정값) #리스트에서 특정 값을 가지는 데이터 개수를 셀 때 사용\n",
    "변수명.remove(특정값) #특정 값을 가진 원소를 제거함, if 여러개, 한개만 제거\n"
   ]
  },
  {
   "cell_type": "code",
   "execution_count": 21,
   "id": "ef395f39",
   "metadata": {},
   "outputs": [
    {
     "name": "stdout",
     "output_type": "stream",
     "text": [
      "기본 리스트: [1, 4, 3]\n",
      "삽입:  [1, 4, 3, 2]\n",
      "오름차순 정렬:  [1, 2, 3, 4]\n",
      "내림차순 정렬:  [4, 3, 2, 1]\n",
      "원소 뒤집기:  [1, 2, 3, 4]\n",
      "인덱스 2에 3 추가:  [1, 2, 3, 3, 4]\n",
      "값이 3인 데이터 개수:  2\n",
      "값이 1인 데이터 삭제:  [2, 3, 3, 4]\n"
     ]
    }
   ],
   "source": [
    "a = [1,4,3]\n",
    "print(\"기본 리스트:\", a)\n",
    "\n",
    "#리스트 원소 삽입\n",
    "a.append(2)\n",
    "print(\"삽입: \",a)\n",
    "\n",
    "#오름차순 정렬\n",
    "a.sort()\n",
    "print(\"오름차순 정렬: \", a)\n",
    "\n",
    "#내림차순 정렬\n",
    "a.sort(reverse = True)\n",
    "print(\"내림차순 정렬: \", a)\n",
    "\n",
    "#리스트 원소 뒤집기\n",
    "a.reverse()\n",
    "print(\"원소 뒤집기: \", a)\n",
    "\n",
    "#특정 인덱스에 데이터 추가\n",
    "a.insert(2,3)\n",
    "print(\"인덱스 2에 3 추가: \", a)\n",
    "\n",
    "#특정 값인 데이터 개수 세기\n",
    "print(\"값이 3인 데이터 개수: \", a.count(3))\n",
    "\n",
    "#특정 값 데이터 삭제\n",
    "a.remove(1)\n",
    "print(\"값이 1인 데이터 삭제: \", a)"
   ]
  },
  {
   "cell_type": "code",
   "execution_count": 22,
   "id": "0cb077da",
   "metadata": {},
   "outputs": [
    {
     "name": "stdout",
     "output_type": "stream",
     "text": [
      "[1, 2, 4]\n"
     ]
    }
   ],
   "source": [
    "#특정 값의 원소를 모두 제거하려면?\n",
    "\n",
    "a = [1,2,3,4,5,5,5]\n",
    "remove_set= {3,5}\n",
    "\n",
    "#remove_set에 포함되지 않은 값만을 저장\n",
    "result = [i for i in a if i not in remove_set]\n",
    "print(result)"
   ]
  },
  {
   "cell_type": "markdown",
   "id": "8d233442",
   "metadata": {},
   "source": [
    "문자열 자료형"
   ]
  },
  {
   "cell_type": "code",
   "execution_count": 27,
   "id": "4f9ccc2b",
   "metadata": {},
   "outputs": [
    {
     "name": "stdout",
     "output_type": "stream",
     "text": [
      "Hello World\n",
      "Don't you know \"Python\"?\n",
      "Hi \"man who wanna escape\"\n"
     ]
    }
   ],
   "source": [
    "data = \"Hello World\"\n",
    "print(data)\n",
    "\n",
    "data=\"Don't you know \\\"Python\\\"?\" #원화 or 백슬래시 이용하면 큰 따옴표를 포함 가능\n",
    "print(data)\n",
    "\n",
    "data = \"Hi \\\"man who wanna escape\\\"\"\n",
    "print(data)"
   ]
  },
  {
   "cell_type": "code",
   "execution_count": 29,
   "id": "954be048",
   "metadata": {},
   "outputs": [
    {
     "name": "stdout",
     "output_type": "stream",
     "text": [
      "Hello  World\n"
     ]
    }
   ],
   "source": [
    "a = \"Hello\"\n",
    "b = \"World\"\n",
    "\n",
    "print(a+\"  \"+b)"
   ]
  },
  {
   "cell_type": "code",
   "execution_count": 30,
   "id": "9bb770c9",
   "metadata": {},
   "outputs": [
    {
     "name": "stdout",
     "output_type": "stream",
     "text": [
      "StringStringString\n"
     ]
    }
   ],
   "source": [
    "a=\"String\"\n",
    "print(a*3)"
   ]
  },
  {
   "cell_type": "code",
   "execution_count": 31,
   "id": "ed170392",
   "metadata": {},
   "outputs": [
    {
     "name": "stdout",
     "output_type": "stream",
     "text": [
      "CD\n"
     ]
    }
   ],
   "source": [
    "a = \"ABCDEF\"\n",
    "\n",
    "print(a[2 : 4])"
   ]
  },
  {
   "cell_type": "markdown",
   "id": "ae3b89e5",
   "metadata": {},
   "source": [
    "튜플 자료형\n",
    "\n",
    "- 튜플은 한번 선언된 값을 변경할 수 없음\n",
    "\n",
    "- 리스트는 대괄호, 튜플은 소괄호\n",
    "\n",
    "- 튜플은 괄호를 생략해도 됨\n",
    "\n",
    "- 1개만의 요소를 가질 때 요소 뒤에 콤마를 반드시 붙여야 함"
   ]
  },
  {
   "cell_type": "code",
   "execution_count": 32,
   "id": "d9196c2b",
   "metadata": {},
   "outputs": [
    {
     "name": "stdout",
     "output_type": "stream",
     "text": [
      "(1, 2, 3, 4)\n"
     ]
    },
    {
     "ename": "TypeError",
     "evalue": "'tuple' object does not support item assignment",
     "output_type": "error",
     "traceback": [
      "\u001b[1;31m---------------------------------------------------------------------------\u001b[0m",
      "\u001b[1;31mTypeError\u001b[0m                                 Traceback (most recent call last)",
      "Input \u001b[1;32mIn [32]\u001b[0m, in \u001b[0;36m<cell line: 4>\u001b[1;34m()\u001b[0m\n\u001b[0;32m      1\u001b[0m a \u001b[38;5;241m=\u001b[39m (\u001b[38;5;241m1\u001b[39m,\u001b[38;5;241m2\u001b[39m,\u001b[38;5;241m3\u001b[39m,\u001b[38;5;241m4\u001b[39m)\n\u001b[0;32m      2\u001b[0m \u001b[38;5;28mprint\u001b[39m(a)\n\u001b[1;32m----> 4\u001b[0m a[\u001b[38;5;241m2\u001b[39m] \u001b[38;5;241m=\u001b[39m \u001b[38;5;241m7\u001b[39m\n",
      "\u001b[1;31mTypeError\u001b[0m: 'tuple' object does not support item assignment"
     ]
    }
   ],
   "source": [
    "a = (1,2,3,4)\n",
    "print(a)\n",
    "\n",
    "a[2] = 7 #오류가 남"
   ]
  },
  {
   "cell_type": "markdown",
   "id": "595e9e0d",
   "metadata": {},
   "source": [
    "딕셔너리 형\n",
    "\n",
    "- 키&값의 쌍을 데이터로 가짐"
   ]
  },
  {
   "cell_type": "code",
   "execution_count": 35,
   "id": "1c3dafc0",
   "metadata": {},
   "outputs": [
    {
     "name": "stdout",
     "output_type": "stream",
     "text": [
      "{'사과': 'Apple', '바나나': 'Banana', '코코넛': 'Coconut'}\n",
      "'사과'있음\n"
     ]
    }
   ],
   "source": [
    "data = dict()\n",
    "data['사과'] = 'Apple'\n",
    "data['바나나'] = 'Banana'\n",
    "data['코코넛'] = \"Coconut\"\n",
    "\n",
    "print(data)\n",
    "if '사과' in data:\n",
    "    print(\"'사과'있음\")"
   ]
  },
  {
   "cell_type": "code",
   "execution_count": 38,
   "id": "b14298ad",
   "metadata": {},
   "outputs": [
    {
     "name": "stdout",
     "output_type": "stream",
     "text": [
      "dict_keys(['사과', '바나나', '코코넛'])\n",
      "dict_values(['Apple', 'Banana', 'Coconut'])\n",
      "Apple\n",
      "Banana\n",
      "Coconut\n"
     ]
    }
   ],
   "source": [
    "#딕셔너리 관련 다양한 함수\n",
    "\n",
    "data = dict()\n",
    "data['사과'] = 'Apple'\n",
    "data['바나나'] = 'Banana'\n",
    "data['코코넛'] = \"Coconut\"\n",
    "\n",
    "#키 데이터만 담은 리스트\n",
    "key_list = data.keys()\n",
    "#값 데이터만 담은 리스트\n",
    "value_list=data.values()\n",
    "print(key_list)\n",
    "print(value_list)\n",
    "\n",
    "#각 키에 따른 값을 하나씩 출력\n",
    "for key in key_list:\n",
    "    print(data[key])"
   ]
  },
  {
   "cell_type": "markdown",
   "id": "af5a76c8",
   "metadata": {},
   "source": [
    "집합 자료형\n",
    "- 중복을 허용하지 않음\n",
    "- 순서가 없음\n",
    "- 리스트, 튜플은 순서 존재 ->인덱싱 통해 값얻음\n",
    "- 사전, 집합 순서 존재 X -> 인덱싱 통해 값 X"
   ]
  },
  {
   "cell_type": "code",
   "execution_count": 39,
   "id": "08aca0dd",
   "metadata": {},
   "outputs": [
    {
     "name": "stdout",
     "output_type": "stream",
     "text": [
      "{1, 2, 3, 4, 5}\n",
      "{1, 2, 3, 4, 5}\n"
     ]
    }
   ],
   "source": [
    "data = set([1,1,2,3,4,4,5])\n",
    "print(data)\n",
    "\n",
    "data = {1, 1, 2, 3, 4, 4, 5}\n",
    "print(data)"
   ]
  },
  {
   "cell_type": "code",
   "execution_count": 41,
   "id": "d803f220",
   "metadata": {},
   "outputs": [
    {
     "name": "stdout",
     "output_type": "stream",
     "text": [
      "{1, 2, 3, 4, 5, 6, 7}\n",
      "{3, 4, 5}\n",
      "{1, 2}\n"
     ]
    }
   ],
   "source": [
    "# 집합의 연산\n",
    "a = set([1, 2, 3, 4, 5])\n",
    "b = set([3, 4, 5, 6, 7])\n",
    "\n",
    "print(a|b) #합집합\n",
    "print(a&b) #교집합\n",
    "print(a - b) #차집합"
   ]
  },
  {
   "cell_type": "code",
   "execution_count": 42,
   "id": "b644d266",
   "metadata": {},
   "outputs": [
    {
     "name": "stdout",
     "output_type": "stream",
     "text": [
      "{1, 2, 3}\n",
      "{1, 2, 3, 4}\n",
      "{1, 2, 3, 4, 5, 6}\n",
      "{1, 2, 4, 5, 6}\n"
     ]
    }
   ],
   "source": [
    "data = set([1, 2, 3])\n",
    "print(data)\n",
    "\n",
    "data.add(4) #4 추가\n",
    "print(data)\n",
    "\n",
    "data.update([5,6]) #여러개 추가\n",
    "print(data)\n",
    "\n",
    "data.remove(3) #특정 값 원소 삭제\n",
    "print(data)"
   ]
  },
  {
   "cell_type": "code",
   "execution_count": null,
   "id": "03a686ee",
   "metadata": {},
   "outputs": [],
   "source": []
  },
  {
   "cell_type": "code",
   "execution_count": null,
   "id": "adddf9f0",
   "metadata": {},
   "outputs": [],
   "source": []
  },
  {
   "cell_type": "code",
   "execution_count": null,
   "id": "c66ba4d8",
   "metadata": {},
   "outputs": [],
   "source": []
  },
  {
   "cell_type": "code",
   "execution_count": null,
   "id": "375b578d",
   "metadata": {},
   "outputs": [],
   "source": []
  },
  {
   "cell_type": "code",
   "execution_count": null,
   "id": "be0a20b9",
   "metadata": {},
   "outputs": [],
   "source": []
  }
 ],
 "metadata": {
  "kernelspec": {
   "display_name": "Python 3 (ipykernel)",
   "language": "python",
   "name": "python3"
  },
  "language_info": {
   "codemirror_mode": {
    "name": "ipython",
    "version": 3
   },
   "file_extension": ".py",
   "mimetype": "text/x-python",
   "name": "python",
   "nbconvert_exporter": "python",
   "pygments_lexer": "ipython3",
   "version": "3.9.12"
  }
 },
 "nbformat": 4,
 "nbformat_minor": 5
}
