{
 "cells": [
  {
   "cell_type": "markdown",
   "id": "7322a37f",
   "metadata": {},
   "source": [
    "수 자료형"
   ]
  },
  {
   "cell_type": "code",
   "execution_count": 3,
   "id": "1e286e36",
   "metadata": {},
   "outputs": [
    {
     "name": "stdout",
     "output_type": "stream",
     "text": [
      "1000\n",
      "-7\n",
      "0\n"
     ]
    }
   ],
   "source": [
    "# 정수형- 양의 정수, 음의 정수, 0\n",
    "a = 1000\n",
    "print(a)\n",
    "\n",
    "a = -7\n",
    "print(a)\n",
    "\n",
    "a = 0\n",
    "print(a)"
   ]
  },
  {
   "cell_type": "markdown",
   "id": "7b71d2ee",
   "metadata": {},
   "source": [
    "실수형"
   ]
  },
  {
   "cell_type": "code",
   "execution_count": 4,
   "id": "5d0f8d50",
   "metadata": {},
   "outputs": [
    {
     "name": "stdout",
     "output_type": "stream",
     "text": [
      "157.93\n",
      "-187.33\n",
      "5.0\n",
      "-0.7\n"
     ]
    }
   ],
   "source": [
    "a = 157.93\n",
    "print(a)\n",
    "\n",
    "a=-187.33\n",
    "print(a)\n",
    "\n",
    "a=5.\n",
    "print(a)\n",
    "\n",
    "a=-.7\n",
    "print(a)"
   ]
  },
  {
   "cell_type": "markdown",
   "id": "9443521c",
   "metadata": {},
   "source": [
    "유효숫자\n",
    "\n",
    "너무 큰 숫자는 e를 이용함\n",
    "\n",
    "ex. 1e9는 10의 9제곱\n",
    "\n",
    "유효숫자e^지수 = 유효숫자 X 10^지수"
   ]
  },
  {
   "cell_type": "code",
   "execution_count": 5,
   "id": "5665e989",
   "metadata": {},
   "outputs": [
    {
     "name": "stdout",
     "output_type": "stream",
     "text": [
      "1000000000.0\n",
      "752.5\n",
      "3.954\n"
     ]
    }
   ],
   "source": [
    "#10억의 지수 표현 방식\n",
    "\n",
    "a = 1e9\n",
    "print(a)\n",
    "\n",
    "#752.5\n",
    "a = 75.25e1\n",
    "print(a)\n",
    "\n",
    "#3.954\n",
    "\n",
    "a=3954e-3\n",
    "print(a)"
   ]
  },
  {
   "cell_type": "markdown",
   "id": "c9e87b98",
   "metadata": {},
   "source": [
    "컴퓨터 시스템은 이진수 사용, 실수 처리 시 부동 소수점 방식\n",
    "ex. 10진수에서는 0.3 + 0.6 = 0.9\n",
    "2진수 에서는 0.9를 표현할 수 있는 방법이 없음"
   ]
  },
  {
   "cell_type": "code",
   "execution_count": 8,
   "id": "5ff310fa",
   "metadata": {},
   "outputs": [
    {
     "name": "stdout",
     "output_type": "stream",
     "text": [
      "0.8999999999999999\n",
      "False\n"
     ]
    }
   ],
   "source": [
    "a = 0.3  + 0.6\n",
    "print(a)\n",
    "\n",
    "if a==0.9:\n",
    "    print(True)\n",
    "else:\n",
    "    print(False)"
   ]
  },
  {
   "cell_type": "markdown",
   "id": "2f375fe8",
   "metadata": {},
   "source": [
    "코테에서는 5번째 자리에서 반올림한 결과가 같아야 정답으로 인식"
   ]
  },
  {
   "cell_type": "code",
   "execution_count": 9,
   "id": "13740bbb",
   "metadata": {},
   "outputs": [
    {
     "name": "stdout",
     "output_type": "stream",
     "text": [
      "0.9\n",
      "True\n"
     ]
    }
   ],
   "source": [
    "a = 0.3  + 0.6\n",
    "print(round(a,4))\n",
    "\n",
    "if round(a,4)==0.9:\n",
    "    print(True)\n",
    "else:\n",
    "    print(False)"
   ]
  },
  {
   "cell_type": "code",
   "execution_count": 12,
   "id": "a3b1d3f9",
   "metadata": {},
   "outputs": [
    {
     "name": "stdout",
     "output_type": "stream",
     "text": [
      "2.3333333333333335\n",
      "1\n",
      "2\n",
      "343\n"
     ]
    }
   ],
   "source": [
    "a = 7\n",
    "b = 3\n",
    "\n",
    "#나누기\n",
    "print(a/b)\n",
    "\n",
    "#나머지\n",
    "print(a%b)\n",
    "\n",
    "#몫\n",
    "print(a //b)\n",
    "\n",
    "#거듭제곱\n",
    "print(a**b)"
   ]
  }
 ],
 "metadata": {
  "kernelspec": {
   "display_name": "Python 3 (ipykernel)",
   "language": "python",
   "name": "python3"
  },
  "language_info": {
   "codemirror_mode": {
    "name": "ipython",
    "version": 3
   },
   "file_extension": ".py",
   "mimetype": "text/x-python",
   "name": "python",
   "nbconvert_exporter": "python",
   "pygments_lexer": "ipython3",
   "version": "3.9.12"
  }
 },
 "nbformat": 4,
 "nbformat_minor": 5
}
