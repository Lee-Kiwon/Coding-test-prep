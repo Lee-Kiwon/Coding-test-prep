{
 "cells": [
  {
   "cell_type": "markdown",
   "id": "6b7d28c6",
   "metadata": {},
   "source": [
    "함수"
   ]
  },
  {
   "cell_type": "code",
   "execution_count": null,
   "id": "b34b0dd2",
   "metadata": {},
   "outputs": [],
   "source": [
    "#기본 형태\n",
    "\n",
    "def 함수명(매개변수):\n",
    "    실행할 코드\n",
    "    return 반환 값"
   ]
  },
  {
   "cell_type": "code",
   "execution_count": 65,
   "id": "2cc94fab",
   "metadata": {},
   "outputs": [
    {
     "name": "stdout",
     "output_type": "stream",
     "text": [
      "7\n"
     ]
    }
   ],
   "source": [
    "def add(a,b):\n",
    "    return a+b\n",
    "\n",
    "print(add(3,4))"
   ]
  },
  {
   "cell_type": "code",
   "execution_count": 66,
   "id": "61a44988",
   "metadata": {},
   "outputs": [
    {
     "name": "stdout",
     "output_type": "stream",
     "text": [
      "10\n"
     ]
    }
   ],
   "source": [
    "#함수 밖의 변수 데이터를 변경해야 하는 경우가 있음\n",
    "# global 키워드를 이용\n",
    "\n",
    "a = 0\n",
    "\n",
    "def func():\n",
    "    global a\n",
    "    a+=1\n",
    "    \n",
    "for i in range(10):\n",
    "    func()\n",
    "    \n",
    "print(a)"
   ]
  },
  {
   "cell_type": "code",
   "execution_count": 67,
   "id": "f9639c7a",
   "metadata": {},
   "outputs": [
    {
     "name": "stdout",
     "output_type": "stream",
     "text": [
      "10\n"
     ]
    }
   ],
   "source": [
    "#람다 표현식\n",
    "\n",
    "print((lambda a, b: a+b)(3,7))"
   ]
  },
  {
   "cell_type": "markdown",
   "id": "fbe7226b",
   "metadata": {},
   "source": [
    "입출력"
   ]
  },
  {
   "cell_type": "code",
   "execution_count": null,
   "id": "07fdbe7a",
   "metadata": {},
   "outputs": [],
   "source": [
    "#파이썬에서 데이터를 입력받을 때는 input()를 이용\n",
    "\n",
    "#여러개의 데이터를 입력받을 때에는 공백으로 구분\n",
    "list(map(int,input().split()))\n",
    "\n",
    "# 해당 함수 동작 과정\n",
    "#input() 입력 -> split() 공백 나눈 리스트 -> map 이용해 int() 적용-> 결과를 list()로 다시 바꿈"
   ]
  },
  {
   "cell_type": "code",
   "execution_count": 68,
   "id": "987afdea",
   "metadata": {
    "scrolled": false
   },
   "outputs": [
    {
     "name": "stdout",
     "output_type": "stream",
     "text": [
      "5\n"
     ]
    },
    {
     "ename": "AttributeError",
     "evalue": "'function' object has no attribute 'split'",
     "output_type": "error",
     "traceback": [
      "\u001b[1;31m---------------------------------------------------------------------------\u001b[0m",
      "\u001b[1;31mAttributeError\u001b[0m                            Traceback (most recent call last)",
      "Input \u001b[1;32mIn [68]\u001b[0m, in \u001b[0;36m<cell line: 8>\u001b[1;34m()\u001b[0m\n\u001b[0;32m      5\u001b[0m n \u001b[38;5;241m=\u001b[39m \u001b[38;5;28mint\u001b[39m(\u001b[38;5;28minput\u001b[39m())\n\u001b[0;32m      7\u001b[0m \u001b[38;5;66;03m#각 데이터 공백으로 구분하여 입력\u001b[39;00m\n\u001b[1;32m----> 8\u001b[0m data \u001b[38;5;241m=\u001b[39m \u001b[38;5;28mlist\u001b[39m(\u001b[38;5;28mmap\u001b[39m(\u001b[38;5;28mint\u001b[39m, \u001b[38;5;28;43minput\u001b[39;49m\u001b[38;5;241;43m.\u001b[39;49m\u001b[43msplit\u001b[49m()))\n\u001b[0;32m     10\u001b[0m data\u001b[38;5;241m.\u001b[39msort(reverse \u001b[38;5;241m=\u001b[39m \u001b[38;5;28;01mTrue\u001b[39;00m)\n\u001b[0;32m     11\u001b[0m \u001b[38;5;28mprint\u001b[39m(data)\n",
      "\u001b[1;31mAttributeError\u001b[0m: 'function' object has no attribute 'split'"
     ]
    }
   ],
   "source": [
    "#입력을 위한 전형적인 소스코드\n",
    "\n",
    "#데이터 개수 입력\n",
    "\n",
    "n = int(input())\n",
    "\n",
    "#각 데이터 공백으로 구분하여 입력\n",
    "data = list(map(int, input.split()))\n",
    "\n",
    "data.sort(reverse = True)\n",
    "print(data)\n",
    "\n",
    "#공백으로 구분한 적은 수의 데이터\n",
    "\n",
    "n,m,k = map(int, input().split())\n",
    "\n",
    "print(n,m,k)"
   ]
  },
  {
   "cell_type": "code",
   "execution_count": 69,
   "id": "3253a99d",
   "metadata": {},
   "outputs": [
    {
     "name": "stdout",
     "output_type": "stream",
     "text": [
      "\n"
     ]
    }
   ],
   "source": [
    "#입력을 빠르게 받는 방법\n",
    "\n",
    "import sys\n",
    "sys.stdin.readline().rstrip()\n",
    "\n",
    "#문자열 입력받을 때(공백 문자 제거를 위해)\n",
    "data = sys.stdin.readline().rstrip()\n",
    "print(data)"
   ]
  },
  {
   "cell_type": "markdown",
   "id": "5511d531",
   "metadata": {},
   "source": [
    "출력"
   ]
  },
  {
   "cell_type": "code",
   "execution_count": null,
   "id": "ec5718af",
   "metadata": {},
   "outputs": [],
   "source": [
    "print()"
   ]
  },
  {
   "cell_type": "code",
   "execution_count": 71,
   "id": "81266ea2",
   "metadata": {},
   "outputs": [
    {
     "name": "stdout",
     "output_type": "stream",
     "text": [
      "정답은7입니다.\n",
      "정답은 7 입니다.\n"
     ]
    }
   ],
   "source": [
    "#문자열과 같이 출력할 때 주의할 점\n",
    "#\n",
    "\n",
    "answer = 7\n",
    "\n",
    "print(\"정답은\" + str(answer) + \"입니다.\")\n",
    "print(\"정답은\" , str(answer) , \"입니다.\")"
   ]
  },
  {
   "cell_type": "code",
   "execution_count": 75,
   "id": "7043b0ba",
   "metadata": {},
   "outputs": [
    {
     "name": "stdout",
     "output_type": "stream",
     "text": [
      "정답은 7입니다.\n"
     ]
    }
   ],
   "source": [
    "answer=7\n",
    "print(f\"정답은 {answer}입니다.\")"
   ]
  },
  {
   "cell_type": "code",
   "execution_count": null,
   "id": "c2aa3449",
   "metadata": {},
   "outputs": [],
   "source": []
  },
  {
   "cell_type": "code",
   "execution_count": null,
   "id": "6a12c8df",
   "metadata": {},
   "outputs": [],
   "source": []
  },
  {
   "cell_type": "code",
   "execution_count": null,
   "id": "057b68c5",
   "metadata": {},
   "outputs": [],
   "source": []
  },
  {
   "cell_type": "code",
   "execution_count": null,
   "id": "f4b07ef9",
   "metadata": {},
   "outputs": [],
   "source": []
  },
  {
   "cell_type": "code",
   "execution_count": null,
   "id": "a187b19f",
   "metadata": {},
   "outputs": [],
   "source": []
  },
  {
   "cell_type": "code",
   "execution_count": null,
   "id": "bbb00b27",
   "metadata": {},
   "outputs": [],
   "source": []
  },
  {
   "cell_type": "code",
   "execution_count": null,
   "id": "b9751e8d",
   "metadata": {},
   "outputs": [],
   "source": []
  },
  {
   "cell_type": "code",
   "execution_count": null,
   "id": "9c6c64b6",
   "metadata": {},
   "outputs": [],
   "source": []
  },
  {
   "cell_type": "code",
   "execution_count": null,
   "id": "cb624065",
   "metadata": {},
   "outputs": [],
   "source": []
  },
  {
   "cell_type": "code",
   "execution_count": null,
   "id": "66e43a61",
   "metadata": {},
   "outputs": [],
   "source": []
  },
  {
   "cell_type": "code",
   "execution_count": null,
   "id": "67c9554d",
   "metadata": {},
   "outputs": [],
   "source": []
  },
  {
   "cell_type": "code",
   "execution_count": null,
   "id": "12fcc6dd",
   "metadata": {},
   "outputs": [],
   "source": []
  },
  {
   "cell_type": "code",
   "execution_count": null,
   "id": "4a5bacec",
   "metadata": {},
   "outputs": [],
   "source": []
  }
 ],
 "metadata": {
  "kernelspec": {
   "display_name": "Python 3 (ipykernel)",
   "language": "python",
   "name": "python3"
  },
  "language_info": {
   "codemirror_mode": {
    "name": "ipython",
    "version": 3
   },
   "file_extension": ".py",
   "mimetype": "text/x-python",
   "name": "python",
   "nbconvert_exporter": "python",
   "pygments_lexer": "ipython3",
   "version": "3.9.12"
  }
 },
 "nbformat": 4,
 "nbformat_minor": 5
}
