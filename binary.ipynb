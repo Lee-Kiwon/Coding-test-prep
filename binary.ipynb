{
 "cells": [
  {
   "cell_type": "markdown",
   "id": "7fba6c7a",
   "metadata": {},
   "source": [
    "순차탐색\n",
    "\n",
    "리스트 안에 있는 특정한 데이터를 찾기 위해 앞에서부터 데이터를 하나씩 차례대로 확인하는 방법\n",
    "\n",
    "보통 정렬되지 않은 리스트에서 데이터를 찾아야 할 때 사용"
   ]
  },
  {
   "cell_type": "code",
   "execution_count": 1,
   "id": "4c25d2b2",
   "metadata": {},
   "outputs": [
    {
     "name": "stdout",
     "output_type": "stream",
     "text": [
      "생성할 원소 개수를 입력한 다음 한 칸 띄고 찾을 문자열을 입력하세요.\n"
     ]
    },
    {
     "ename": "KeyboardInterrupt",
     "evalue": "Interrupted by user",
     "output_type": "error",
     "traceback": [
      "\u001b[1;31m---------------------------------------------------------------------------\u001b[0m",
      "\u001b[1;31mKeyboardInterrupt\u001b[0m                         Traceback (most recent call last)",
      "Input \u001b[1;32mIn [1]\u001b[0m, in \u001b[0;36m<cell line: 10>\u001b[1;34m()\u001b[0m\n\u001b[0;32m      7\u001b[0m             \u001b[38;5;28;01mreturn\u001b[39;00m i\u001b[38;5;241m+\u001b[39m\u001b[38;5;241m1\u001b[39m \u001b[38;5;66;03m#현재의 위치 반환(인덱스는 0부터 시작하므로 1 더하기)\u001b[39;00m\n\u001b[0;32m      9\u001b[0m \u001b[38;5;28mprint\u001b[39m(\u001b[38;5;124m\"\u001b[39m\u001b[38;5;124m생성할 원소 개수를 입력한 다음 한 칸 띄고 찾을 문자열을 입력하세요.\u001b[39m\u001b[38;5;124m\"\u001b[39m)\n\u001b[1;32m---> 10\u001b[0m input_data \u001b[38;5;241m=\u001b[39m \u001b[38;5;28;43minput\u001b[39;49m\u001b[43m(\u001b[49m\u001b[43m)\u001b[49m\u001b[38;5;241m.\u001b[39msplit()\n\u001b[0;32m     11\u001b[0m n \u001b[38;5;241m=\u001b[39m \u001b[38;5;28mint\u001b[39m(input_data[\u001b[38;5;241m0\u001b[39m]) \u001b[38;5;66;03m#원소의 개수\u001b[39;00m\n\u001b[0;32m     12\u001b[0m target \u001b[38;5;241m=\u001b[39m input_data[\u001b[38;5;241m1\u001b[39m] \u001b[38;5;66;03m#찾고자 하는 문자열\u001b[39;00m\n",
      "File \u001b[1;32m~\\anaconda3\\lib\\site-packages\\ipykernel\\kernelbase.py:1075\u001b[0m, in \u001b[0;36mKernel.raw_input\u001b[1;34m(self, prompt)\u001b[0m\n\u001b[0;32m   1071\u001b[0m \u001b[38;5;28;01mif\u001b[39;00m \u001b[38;5;129;01mnot\u001b[39;00m \u001b[38;5;28mself\u001b[39m\u001b[38;5;241m.\u001b[39m_allow_stdin:\n\u001b[0;32m   1072\u001b[0m     \u001b[38;5;28;01mraise\u001b[39;00m StdinNotImplementedError(\n\u001b[0;32m   1073\u001b[0m         \u001b[38;5;124m\"\u001b[39m\u001b[38;5;124mraw_input was called, but this frontend does not support input requests.\u001b[39m\u001b[38;5;124m\"\u001b[39m\n\u001b[0;32m   1074\u001b[0m     )\n\u001b[1;32m-> 1075\u001b[0m \u001b[38;5;28;01mreturn\u001b[39;00m \u001b[38;5;28;43mself\u001b[39;49m\u001b[38;5;241;43m.\u001b[39;49m\u001b[43m_input_request\u001b[49m\u001b[43m(\u001b[49m\n\u001b[0;32m   1076\u001b[0m \u001b[43m    \u001b[49m\u001b[38;5;28;43mstr\u001b[39;49m\u001b[43m(\u001b[49m\u001b[43mprompt\u001b[49m\u001b[43m)\u001b[49m\u001b[43m,\u001b[49m\n\u001b[0;32m   1077\u001b[0m \u001b[43m    \u001b[49m\u001b[38;5;28;43mself\u001b[39;49m\u001b[38;5;241;43m.\u001b[39;49m\u001b[43m_parent_ident\u001b[49m\u001b[43m[\u001b[49m\u001b[38;5;124;43m\"\u001b[39;49m\u001b[38;5;124;43mshell\u001b[39;49m\u001b[38;5;124;43m\"\u001b[39;49m\u001b[43m]\u001b[49m\u001b[43m,\u001b[49m\n\u001b[0;32m   1078\u001b[0m \u001b[43m    \u001b[49m\u001b[38;5;28;43mself\u001b[39;49m\u001b[38;5;241;43m.\u001b[39;49m\u001b[43mget_parent\u001b[49m\u001b[43m(\u001b[49m\u001b[38;5;124;43m\"\u001b[39;49m\u001b[38;5;124;43mshell\u001b[39;49m\u001b[38;5;124;43m\"\u001b[39;49m\u001b[43m)\u001b[49m\u001b[43m,\u001b[49m\n\u001b[0;32m   1079\u001b[0m \u001b[43m    \u001b[49m\u001b[43mpassword\u001b[49m\u001b[38;5;241;43m=\u001b[39;49m\u001b[38;5;28;43;01mFalse\u001b[39;49;00m\u001b[43m,\u001b[49m\n\u001b[0;32m   1080\u001b[0m \u001b[43m\u001b[49m\u001b[43m)\u001b[49m\n",
      "File \u001b[1;32m~\\anaconda3\\lib\\site-packages\\ipykernel\\kernelbase.py:1120\u001b[0m, in \u001b[0;36mKernel._input_request\u001b[1;34m(self, prompt, ident, parent, password)\u001b[0m\n\u001b[0;32m   1117\u001b[0m             \u001b[38;5;28;01mbreak\u001b[39;00m\n\u001b[0;32m   1118\u001b[0m \u001b[38;5;28;01mexcept\u001b[39;00m \u001b[38;5;167;01mKeyboardInterrupt\u001b[39;00m:\n\u001b[0;32m   1119\u001b[0m     \u001b[38;5;66;03m# re-raise KeyboardInterrupt, to truncate traceback\u001b[39;00m\n\u001b[1;32m-> 1120\u001b[0m     \u001b[38;5;28;01mraise\u001b[39;00m \u001b[38;5;167;01mKeyboardInterrupt\u001b[39;00m(\u001b[38;5;124m\"\u001b[39m\u001b[38;5;124mInterrupted by user\u001b[39m\u001b[38;5;124m\"\u001b[39m) \u001b[38;5;28;01mfrom\u001b[39;00m \u001b[38;5;28mNone\u001b[39m\n\u001b[0;32m   1121\u001b[0m \u001b[38;5;28;01mexcept\u001b[39;00m \u001b[38;5;167;01mException\u001b[39;00m:\n\u001b[0;32m   1122\u001b[0m     \u001b[38;5;28mself\u001b[39m\u001b[38;5;241m.\u001b[39mlog\u001b[38;5;241m.\u001b[39mwarning(\u001b[38;5;124m\"\u001b[39m\u001b[38;5;124mInvalid Message:\u001b[39m\u001b[38;5;124m\"\u001b[39m, exc_info\u001b[38;5;241m=\u001b[39m\u001b[38;5;28;01mTrue\u001b[39;00m)\n",
      "\u001b[1;31mKeyboardInterrupt\u001b[0m: Interrupted by user"
     ]
    }
   ],
   "source": [
    "# 순차 탐색 소스코드 구현\n",
    "def sequential_serach(n, target, array):\n",
    "    #각 원소 하나씩 확인\n",
    "    for i in range(n):\n",
    "        #현재의 원소가 찾고자 하는 원소와 동일한 경우\n",
    "        if array[i] == target:\n",
    "            return i+1 #현재의 위치 반환(인덱스는 0부터 시작하므로 1 더하기)\n",
    "        \n",
    "print(\"생성할 원소 개수를 입력한 다음 한 칸 띄고 찾을 문자열을 입력하세요.\")\n",
    "input_data = input().split()\n",
    "n = int(input_data[0]) #원소의 개수\n",
    "target = input_data[1] #찾고자 하는 문자열\n",
    "\n",
    "print(\"앞서 적은 원소 개수만큼 문자열을 입력하세요. 구분은 띄어쓰기 한 칸으로 합니다.\")\n",
    "array = input().split()\n",
    "\n",
    "#순차 탐색 수행 결과 출력\n",
    "print(sequential_search(n, target, array))"
   ]
  },
  {
   "cell_type": "markdown",
   "id": "0bc039f9",
   "metadata": {},
   "source": [
    "이진탐색\n",
    "\n",
    "내부 데이터가 정렬되어 있어야만 사용이 가능\n",
    "\n",
    "시작점, 끝점, 중간점 가능\n",
    "\n"
   ]
  },
  {
   "cell_type": "code",
   "execution_count": null,
   "id": "a785765f",
   "metadata": {},
   "outputs": [],
   "source": [
    "#이진 탐색 소스코드\n",
    "\n",
    "#시작점 ,끝점, 중간점\n",
    "\n",
    "#이진탐색 소스코드 구현(재귀함수)\n",
    "\n",
    "def binary_search(array, target, start, end):\n",
    "    if start > end:\n",
    "        return None\n",
    "    mid = (start + end) //2\n",
    "    #찾은 경우 중간점 인덱스 반환\n",
    "    if array[mid] ==target:\n",
    "        return mid\n",
    "    #중간점의 값보다 찾고자 하는 값이 작은 경우 왼쪽 확인\n",
    "    elif array[mid] > target:\n",
    "        return binary_search(array, target, start, mid-1)\n",
    "    #중간점의 값보다 찾고자 하는 값이 큰 경우 오른쪽 확인\n",
    "    else:\n",
    "        return binary_search(array, target, mid + 1, end)\n",
    "    \n",
    "#n(원소의 개수)과 target(찾고자 하는 문자열)을 입력받기\n",
    "n, target = list(map(int, input().split()))\n",
    "#전체 원소 입력받기\n",
    "array = list(map(int,input().split()))\n",
    "\n",
    "#이진 탐색 수행 결과 출력\n",
    "result = binary_search(array, target, 0, n-1)\n",
    "if result == None:\n",
    "    print(\"원소가 존재하지 않습니다\")\n",
    "else:\n",
    "    print(result+1)\n",
    "    \n",
    "#이진 탐색은 암기할것"
   ]
  },
  {
   "cell_type": "markdown",
   "id": "818fbd7c",
   "metadata": {},
   "source": [
    "트리 자료구조\n",
    "\n",
    "DB는 내부적으로 트리구조를 이용해 정리되어 있음, 데이터가 많아도 탐색하는 속도 빠름\n",
    "\n",
    "트리구조란?\n",
    "->노드와 노드의 연결로 표현\n",
    "->트리는 부모노드와 자식노드의 관계로 표현\n",
    "->트리의 최상단 노드를 루트노드라고 함\n",
    "->트리의 최하단 노드를 단말 노드라고 함\n",
    "->트리의 일부를 떼어내도 트리구조이며, 이를 서브 노드라고 함\n",
    "->트리는 파일 시스템과 같이 계층적이고, 정렬된 데이터를 다루기 적합함"
   ]
  },
  {
   "cell_type": "markdown",
   "id": "f6d1f6be",
   "metadata": {},
   "source": [
    "이진 탐색 트리\n",
    "\n",
    "트리 구조 중에서 가장 간단한 형태(효율적 탐색이 가능함\n",
    "->부모노드보다 왼쪽 자식 노드가 작다.\n",
    "->부모노드보다 오른쪽 자식 노드가 크다.\n",
    "\n",
    "즉, 왼쪽 자식 노드 < 부모 노드 < 오른쪽 자식 노드"
   ]
  },
  {
   "cell_type": "code",
   "execution_count": 1,
   "id": "ab4c283e",
   "metadata": {},
   "outputs": [
    {
     "name": "stdout",
     "output_type": "stream",
     "text": [
      "\n"
     ]
    }
   ],
   "source": [
    "#이진 탐색 문제는 데이터가 많거나, 탐색 범위가 매우 넓은 편임\n",
    "\n",
    "import sys\n",
    "#하나의 문자열 데이터 입력받기\n",
    "input_data = sys.stdin.readline().rstrip()\n",
    "\n",
    "#입력받은 문자열 그대로 츌력\n",
    "print(input_data)\n",
    "\n",
    "#sys 라이브러리를 사용할 때에는 한 줄 입력받고 나서 rstrip() 함수를 꼭 호출해야 함"
   ]
  },
  {
   "cell_type": "code",
   "execution_count": null,
   "id": "00f1d450",
   "metadata": {},
   "outputs": [],
   "source": [
    "#매장에 부품이 N개 있다, 손님이 M개의 부품을 대량으로구매하겠다고 함. M개 모두 확인해서 견적서 작성해야 함, 가게 안에 부품이 모두 있는지 확인하는 프로그램\n",
    "\n",
    "#손님이 요청한 부품의 순서대로 부품을 확인해 부품이 있으면 yes, 없으면 No 출력\n",
    "\n",
    "#이진 탐색 소스코드 구현(반복문)\n",
    "def binary_search(array, target, start, end):\n",
    "    while start <=end:\n",
    "        mid = (start+end) //2\n",
    "        #찾은 경우 중간점 인덱스 반환\n",
    "        if array[mid] ==target:\n",
    "            return mid\n",
    "        #중간점의 값보다 찾고자 하는 값이 적은 경우 왼쪽 확인\n",
    "        elif array[mid] > target:\n",
    "            end = mid - 1\n",
    "        #중간점의 값보다 찾고자 하는 값이 큰 경우 올느쪽 확인\n",
    "        else:\n",
    "            start = mid + 1\n",
    "        return None\n",
    "    #N(가게의 부품 개수) 입력\n",
    "    n = int(input())\n",
    "    # 가게에 있는 전체 부품 번호를 공백으로 구분하여 입력\n",
    "    array = list(map(int, input().split()))\n",
    "    array.sort() #이진 탐색을 수행하기 위해 사전에 정렬 수행\n",
    "    #M 입력\n",
    "    m = int(input())\n",
    "    #손님이 확인 요청한 전체 부품 번호를 공백으로 구분하여 입력\n",
    "    x = list(map(int,input().split()))\n",
    "    \n",
    "    #손님이 확인 요청한 부품 번호를 하나씩 확인\n",
    "    for i in x:\n",
    "        #해당 부품이 존재하는지 확인\n",
    "        result = binary_Searc(array, i, 0, n-1)\n",
    "        if result !=None:\n",
    "            print('yes',end=' ')\n",
    "        else:\n",
    "            print('no', end=' ')\n",
    "            "
   ]
  },
  {
   "cell_type": "code",
   "execution_count": 2,
   "id": "149b657d",
   "metadata": {},
   "outputs": [
    {
     "ename": "KeyboardInterrupt",
     "evalue": "Interrupted by user",
     "output_type": "error",
     "traceback": [
      "\u001b[1;31m---------------------------------------------------------------------------\u001b[0m",
      "\u001b[1;31mKeyboardInterrupt\u001b[0m                         Traceback (most recent call last)",
      "Input \u001b[1;32mIn [2]\u001b[0m, in \u001b[0;36m<cell line: 4>\u001b[1;34m()\u001b[0m\n\u001b[0;32m      1\u001b[0m \u001b[38;5;66;03m# 계수 정렬의 개념을 이용해 문지 풀이도 가능(리스트 생성 후 인덱스에 직접 접근해 확인)\u001b[39;00m\n\u001b[0;32m      2\u001b[0m \n\u001b[0;32m      3\u001b[0m \u001b[38;5;66;03m#N 입력받기\u001b[39;00m\n\u001b[1;32m----> 4\u001b[0m n \u001b[38;5;241m=\u001b[39m \u001b[38;5;28mint\u001b[39m(\u001b[38;5;28;43minput\u001b[39;49m\u001b[43m(\u001b[49m\u001b[43m)\u001b[49m)\n\u001b[0;32m      5\u001b[0m array \u001b[38;5;241m=\u001b[39m [\u001b[38;5;241m0\u001b[39m] \u001b[38;5;241m*\u001b[39m \u001b[38;5;241m1000001\u001b[39m\n\u001b[0;32m      7\u001b[0m \u001b[38;5;66;03m#가게에 있는 전체 부품 번호를 입력받아서 기록\u001b[39;00m\n",
      "File \u001b[1;32m~\\anaconda3\\lib\\site-packages\\ipykernel\\kernelbase.py:1075\u001b[0m, in \u001b[0;36mKernel.raw_input\u001b[1;34m(self, prompt)\u001b[0m\n\u001b[0;32m   1071\u001b[0m \u001b[38;5;28;01mif\u001b[39;00m \u001b[38;5;129;01mnot\u001b[39;00m \u001b[38;5;28mself\u001b[39m\u001b[38;5;241m.\u001b[39m_allow_stdin:\n\u001b[0;32m   1072\u001b[0m     \u001b[38;5;28;01mraise\u001b[39;00m StdinNotImplementedError(\n\u001b[0;32m   1073\u001b[0m         \u001b[38;5;124m\"\u001b[39m\u001b[38;5;124mraw_input was called, but this frontend does not support input requests.\u001b[39m\u001b[38;5;124m\"\u001b[39m\n\u001b[0;32m   1074\u001b[0m     )\n\u001b[1;32m-> 1075\u001b[0m \u001b[38;5;28;01mreturn\u001b[39;00m \u001b[38;5;28;43mself\u001b[39;49m\u001b[38;5;241;43m.\u001b[39;49m\u001b[43m_input_request\u001b[49m\u001b[43m(\u001b[49m\n\u001b[0;32m   1076\u001b[0m \u001b[43m    \u001b[49m\u001b[38;5;28;43mstr\u001b[39;49m\u001b[43m(\u001b[49m\u001b[43mprompt\u001b[49m\u001b[43m)\u001b[49m\u001b[43m,\u001b[49m\n\u001b[0;32m   1077\u001b[0m \u001b[43m    \u001b[49m\u001b[38;5;28;43mself\u001b[39;49m\u001b[38;5;241;43m.\u001b[39;49m\u001b[43m_parent_ident\u001b[49m\u001b[43m[\u001b[49m\u001b[38;5;124;43m\"\u001b[39;49m\u001b[38;5;124;43mshell\u001b[39;49m\u001b[38;5;124;43m\"\u001b[39;49m\u001b[43m]\u001b[49m\u001b[43m,\u001b[49m\n\u001b[0;32m   1078\u001b[0m \u001b[43m    \u001b[49m\u001b[38;5;28;43mself\u001b[39;49m\u001b[38;5;241;43m.\u001b[39;49m\u001b[43mget_parent\u001b[49m\u001b[43m(\u001b[49m\u001b[38;5;124;43m\"\u001b[39;49m\u001b[38;5;124;43mshell\u001b[39;49m\u001b[38;5;124;43m\"\u001b[39;49m\u001b[43m)\u001b[49m\u001b[43m,\u001b[49m\n\u001b[0;32m   1079\u001b[0m \u001b[43m    \u001b[49m\u001b[43mpassword\u001b[49m\u001b[38;5;241;43m=\u001b[39;49m\u001b[38;5;28;43;01mFalse\u001b[39;49;00m\u001b[43m,\u001b[49m\n\u001b[0;32m   1080\u001b[0m \u001b[43m\u001b[49m\u001b[43m)\u001b[49m\n",
      "File \u001b[1;32m~\\anaconda3\\lib\\site-packages\\ipykernel\\kernelbase.py:1120\u001b[0m, in \u001b[0;36mKernel._input_request\u001b[1;34m(self, prompt, ident, parent, password)\u001b[0m\n\u001b[0;32m   1117\u001b[0m             \u001b[38;5;28;01mbreak\u001b[39;00m\n\u001b[0;32m   1118\u001b[0m \u001b[38;5;28;01mexcept\u001b[39;00m \u001b[38;5;167;01mKeyboardInterrupt\u001b[39;00m:\n\u001b[0;32m   1119\u001b[0m     \u001b[38;5;66;03m# re-raise KeyboardInterrupt, to truncate traceback\u001b[39;00m\n\u001b[1;32m-> 1120\u001b[0m     \u001b[38;5;28;01mraise\u001b[39;00m \u001b[38;5;167;01mKeyboardInterrupt\u001b[39;00m(\u001b[38;5;124m\"\u001b[39m\u001b[38;5;124mInterrupted by user\u001b[39m\u001b[38;5;124m\"\u001b[39m) \u001b[38;5;28;01mfrom\u001b[39;00m \u001b[38;5;28mNone\u001b[39m\n\u001b[0;32m   1121\u001b[0m \u001b[38;5;28;01mexcept\u001b[39;00m \u001b[38;5;167;01mException\u001b[39;00m:\n\u001b[0;32m   1122\u001b[0m     \u001b[38;5;28mself\u001b[39m\u001b[38;5;241m.\u001b[39mlog\u001b[38;5;241m.\u001b[39mwarning(\u001b[38;5;124m\"\u001b[39m\u001b[38;5;124mInvalid Message:\u001b[39m\u001b[38;5;124m\"\u001b[39m, exc_info\u001b[38;5;241m=\u001b[39m\u001b[38;5;28;01mTrue\u001b[39;00m)\n",
      "\u001b[1;31mKeyboardInterrupt\u001b[0m: Interrupted by user"
     ]
    }
   ],
   "source": [
    "# 계수 정렬의 개념을 이용해 문지 풀이도 가능(리스트 생성 후 인덱스에 직접 접근해 확인)\n",
    "\n",
    "#N 입력받기\n",
    "n = int(input())\n",
    "array = [0] * 1000001\n",
    "\n",
    "#가게에 있는 전체 부품 번호를 입력받아서 기록\n",
    "for i in input().split():\n",
    "    array[int(i)] = 1\n",
    "    \n",
    "#M을 입력받기\n",
    "m = int(input())\n",
    "#손님이 확인 요청한 전체 부품 번호를 공백으로 구분하여 입력\n",
    "x = list(map(int, input().split()))\n",
    "#손님이 확인 요청한 부품 번호를 하나씩 확인\n",
    "for i in x:\n",
    "    #해당 부품이 존재하는지 확인\n",
    "    if array[i] ==1:\n",
    "        print('yes',end=' ')\n",
    "    else:\n",
    "        print('no', end=' ')"
   ]
  },
  {
   "cell_type": "code",
   "execution_count": null,
   "id": "297bb74b",
   "metadata": {},
   "outputs": [],
   "source": [
    "#집합 자료형 이용\n",
    "\n",
    "#N을 입력받기\n",
    "n = int(input())\n",
    "#가게에 있는 전체 부품 번호를 입력받아서 집합 자료형에 기록\n",
    "array = set(map(int, input().split()))\n",
    "\n",
    "#M을 입력받기\n",
    "m = int(input())\n",
    "#손님이 확인 요청한 전체 부품 번호르르 공백으로 구분하여 입력\n",
    "x = list(map(int, input().split()))\n",
    "\n",
    "#손님이 확인 요청한 부품 번호를 하나씩 확인\n",
    "for i in x:\n",
    "    if i in array:\n",
    "        print('yes',end = ' ')\n",
    "    else:\n",
    "        print('no', end = ' ')\n",
    "        \n",
    "    "
   ]
  },
  {
   "cell_type": "code",
   "execution_count": null,
   "id": "4351218f",
   "metadata": {},
   "outputs": [],
   "source": [
    "#떡볶이 떡 자르기\n",
    "#H 높이를 지정하면 H보다 높은 떡은 잘리고, 낮은 떡은 안잘림\n",
    "#손님이 왔을 때 요청한 총 길이가 M일 때, 적어도 M만큼의 떡을 얻기 위해 절단기ㅔㅇ 설정할 수 있는 높이의 최대값 구하기\n",
    "\n",
    "#큰 수가 나오면 이진 탐색\n",
    "\n",
    "#떡 개수N과 떡 길이 M을 입력받기\n",
    "n,m = list(map(int,input().split(' ')))\n",
    "#각 떡의 개별 높이 정보를 입력받기\n",
    "array = list(map(int,input().split()))\n",
    "\n",
    "#이진 탐색을 위한 시작점과 끝점 설정\n",
    "start = 0\n",
    "end = max(array)\n",
    "\n",
    "#이진 탐색 수행\n",
    "result = \n",
    "while(start <=end):\n",
    "    total = 0\n",
    "    mid = (start + end)//2\n",
    "    for x in array:\n",
    "        #잘렸을 때의 떡 양 계산\n",
    "        if x> mid:\n",
    "            total += x - mid\n",
    "    #떡 양이 부족한 경우 더 많이 자르기(왼쪽 부분 탐색)\n",
    "    if total < m:\n",
    "        end = mid - 1\n",
    "    #떡의 양이 충분한 경우 덜 자르기(오른쪽 부분 탐색)\n",
    "    else:\n",
    "        result = mid #\n",
    "        start = mid + 1\n",
    "\n",
    "#정답 출력\n",
    "print(result)"
   ]
  }
 ],
 "metadata": {
  "kernelspec": {
   "display_name": "Python 3 (ipykernel)",
   "language": "python",
   "name": "python3"
  },
  "language_info": {
   "codemirror_mode": {
    "name": "ipython",
    "version": 3
   },
   "file_extension": ".py",
   "mimetype": "text/x-python",
   "name": "python",
   "nbconvert_exporter": "python",
   "pygments_lexer": "ipython3",
   "version": "3.9.12"
  }
 },
 "nbformat": 4,
 "nbformat_minor": 5
}
