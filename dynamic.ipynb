{
 "cells": [
  {
   "cell_type": "code",
   "execution_count": null,
   "id": "36a1266f",
   "metadata": {},
   "outputs": [],
   "source": [
    "#메모리 공간을 약간 더 사용하면서 속도를 비약적으로 증가시키는 방법(다이나믹 프로그래밍)\n",
    "\n"
   ]
  },
  {
   "cell_type": "code",
   "execution_count": 1,
   "id": "1dc8f833",
   "metadata": {},
   "outputs": [
    {
     "name": "stdout",
     "output_type": "stream",
     "text": [
      "3\n"
     ]
    }
   ],
   "source": [
    "#피보나치 함수 소스코드\n",
    "\n",
    "def fibo(x):\n",
    "    if x==1 or x==2:\n",
    "        return 1\n",
    "    return fibo(x-1) + fibo(x-2)\n",
    "\n",
    "print(fibo(4))"
   ]
  },
  {
   "cell_type": "code",
   "execution_count": 3,
   "id": "6b307908",
   "metadata": {},
   "outputs": [
    {
     "name": "stdout",
     "output_type": "stream",
     "text": [
      "218922995834555169026\n"
     ]
    }
   ],
   "source": [
    "# 하지만 저렇게 하면 너무 많이 시간이 듦\n",
    "#메모제이션 기법  : 한번 구현한 결과를 메모해두고 호출 시 그대로 결과를 가져오기(리스트로 구현)\n",
    "\n",
    "d = [0] * 100\n",
    "\n",
    "def fibo(x):\n",
    "    if x==1 or x==2:\n",
    "        return 1\n",
    "    if d[x] !=0:\n",
    "        return d[x]\n",
    "    #아직 계산하지 않은 문제라면 피보나치 결과 반환\n",
    "    d[x] = fibo(x-1) + fibo(x-2)\n",
    "    return d[x]\n",
    "\n",
    "print(fibo(99))\n",
    "\n"
   ]
  },
  {
   "cell_type": "code",
   "execution_count": 1,
   "id": "a0abaf9c",
   "metadata": {},
   "outputs": [
    {
     "name": "stdout",
     "output_type": "stream",
     "text": [
      "26\n",
      "3\n"
     ]
    }
   ],
   "source": [
    "#1로 만들기\n",
    "\n",
    "#다음과 같이 4가지 연산만을 사용한다 가정\n",
    "#1. X가 5로 나누어 떨어지면 5로 나눔(3,2도)\n",
    "#X에서 1을 뺌\n",
    "\n",
    "x=int(input())\n",
    "\n",
    "d = [0] * 30001\n",
    "\n",
    "for i in range(2, x+1):\n",
    "    d[i] = d[i-1] + 1\n",
    "    if i%2 ==0:\n",
    "        d[i] = min(d[i],d[i//2]+1)\n",
    "    if i%3==0:\n",
    "        d[i] = min(d[i],d[i//3]+1)\n",
    "    if i%5==0:\n",
    "        d[i] = min(d[i],d[i//5]+1)\n",
    "        \n",
    "print(d[x])"
   ]
  },
  {
   "cell_type": "code",
   "execution_count": null,
   "id": "1683ae63",
   "metadata": {},
   "outputs": [],
   "source": [
    "#인접한 셀을 건드리지 않고 얻을 수 있는 최대값을 구하라\n",
    "\n",
    "n = int(input())\n",
    "array = list(map(int, input().split()))\n",
    "\n",
    "d = [0] * 100\n",
    "\n",
    "d[0] = array[0]\n",
    "d[1] = max(array[0],array[1])\n",
    "for i in range(2,n):\n",
    "    d[i] = max(d[i-1],d[i-2] + array[i])\n",
    "    \n",
    "print(d[n-1])"
   ]
  },
  {
   "cell_type": "code",
   "execution_count": 1,
   "id": "0cf046c1",
   "metadata": {},
   "outputs": [
    {
     "name": "stdout",
     "output_type": "stream",
     "text": [
      "d\n"
     ]
    },
    {
     "ename": "ValueError",
     "evalue": "invalid literal for int() with base 10: 'd'",
     "output_type": "error",
     "traceback": [
      "\u001b[1;31m---------------------------------------------------------------------------\u001b[0m",
      "\u001b[1;31mValueError\u001b[0m                                Traceback (most recent call last)",
      "Input \u001b[1;32mIn [1]\u001b[0m, in \u001b[0;36m<cell line: 4>\u001b[1;34m()\u001b[0m\n\u001b[0;32m      1\u001b[0m \u001b[38;5;66;03m#가로 길이가 N, 세로 길이가 2인 바닥이 있다.\u001b[39;00m\n\u001b[0;32m      2\u001b[0m \u001b[38;5;66;03m#1X2 덮개, 2X1 덮개, 2X2 덮개 이용해 채우고자 하면 모든 경우의 수는?\u001b[39;00m\n\u001b[1;32m----> 4\u001b[0m n \u001b[38;5;241m=\u001b[39m \u001b[38;5;28;43mint\u001b[39;49m\u001b[43m(\u001b[49m\u001b[38;5;28;43minput\u001b[39;49m\u001b[43m(\u001b[49m\u001b[43m)\u001b[49m\u001b[43m)\u001b[49m\n\u001b[0;32m      6\u001b[0m d \u001b[38;5;241m=\u001b[39m [\u001b[38;5;241m0\u001b[39m] \u001b[38;5;241m*\u001b[39m \u001b[38;5;241m1001\u001b[39m\n\u001b[0;32m      8\u001b[0m d[\u001b[38;5;241m1\u001b[39m] \u001b[38;5;241m=\u001b[39m \u001b[38;5;241m1\u001b[39m\n",
      "\u001b[1;31mValueError\u001b[0m: invalid literal for int() with base 10: 'd'"
     ]
    }
   ],
   "source": [
    "#가로 길이가 N, 세로 길이가 2인 바닥이 있다.\n",
    "#1X2 덮개, 2X1 덮개, 2X2 덮개 이용해 채우고자 하면 모든 경우의 수는?\n",
    "\n",
    "n = int(input())\n",
    "\n",
    "d = [0] * 1001\n",
    "\n",
    "d[1] = 1\n",
    "d[2] = 3\n",
    "for i in range(3,n+1):\n",
    "    d[i] = (d[i-1] + 2 * d[i-2]) % 796796\n",
    "    \n",
    "print(d[n])"
   ]
  },
  {
   "cell_type": "code",
   "execution_count": null,
   "id": "a610c297",
   "metadata": {},
   "outputs": [],
   "source": [
    "#N가지 종류의 화폐가 있다. 화폐 개수를 최소한으로 이용해서 가치 합이 M이 되도록 한다. 개수 제한X, 구성은 같지만 순서 다른 것으로 간주\n",
    "\n",
    "#추후 기입"
   ]
  }
 ],
 "metadata": {
  "kernelspec": {
   "display_name": "Python 3 (ipykernel)",
   "language": "python",
   "name": "python3"
  },
  "language_info": {
   "codemirror_mode": {
    "name": "ipython",
    "version": 3
   },
   "file_extension": ".py",
   "mimetype": "text/x-python",
   "name": "python",
   "nbconvert_exporter": "python",
   "pygments_lexer": "ipython3",
   "version": "3.9.12"
  }
 },
 "nbformat": 4,
 "nbformat_minor": 5
}
